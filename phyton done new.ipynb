{
 "cells": [
  {
   "cell_type": "markdown",
   "metadata": {},
   "source": [
    "# this is a overview \"if condition\" and \"for loop\""
   ]
  },
  {
   "cell_type": "markdown",
   "metadata": {},
   "source": [
    "if you wants to print each element in the\n",
    "- A = [1,2,3,4,5,6,7,8,9,0]\n",
    "- how would you do that? "
   ]
  },
  {
   "cell_type": "code",
   "execution_count": 10,
   "metadata": {},
   "outputs": [
    {
     "name": "stdout",
     "output_type": "stream",
     "text": [
      "1\n",
      "2\n",
      "3\n",
      "4\n",
      "5\n",
      "6\n",
      "7\n",
      "8\n",
      "9\n",
      "0\n"
     ]
    }
   ],
   "source": [
    "A = [1,2,3,4,5,6,7,8,9,0]\n",
    "for item in A:\n",
    "    print(item)"
   ]
  },
  {
   "cell_type": "markdown",
   "metadata": {},
   "source": [
    "print out the odd numbers in A?"
   ]
  },
  {
   "cell_type": "code",
   "execution_count": 11,
   "metadata": {},
   "outputs": [
    {
     "name": "stdout",
     "output_type": "stream",
     "text": [
      "1\n",
      "3\n",
      "5\n",
      "7\n",
      "9\n"
     ]
    }
   ],
   "source": [
    "A = [1,2,3,4,5,6,7,8,9,0]\n",
    "\n",
    "for item in  A:\n",
    "    if item % 2==1:\n",
    "      print(item)\n",
    "    "
   ]
  },
  {
   "cell_type": "markdown",
   "metadata": {},
   "source": [
    "print out the even numbers in A?"
   ]
  },
  {
   "cell_type": "code",
   "execution_count": 12,
   "metadata": {},
   "outputs": [
    {
     "name": "stdout",
     "output_type": "stream",
     "text": [
      "2\n",
      "4\n",
      "6\n",
      "8\n",
      "0\n"
     ]
    }
   ],
   "source": [
    "for item in  A:\n",
    "    if item % 2==0:\n",
    "      print(item)"
   ]
  },
  {
   "cell_type": "markdown",
   "metadata": {},
   "source": [
    "create two new lists and copy in the fist one the even numbers and in the second one the odd numbers"
   ]
  },
  {
   "cell_type": "code",
   "execution_count": 36,
   "metadata": {},
   "outputs": [
    {
     "name": "stdout",
     "output_type": "stream",
     "text": [
      "[2, 4, 6, 8, 0]\n",
      "[1, 3, 5, 7, 9]\n"
     ]
    }
   ],
   "source": [
    "A = [1,2,3,4,5,6,7,8,9,0]\n",
    "\n",
    "evenlist = [ num for num in A if num%2==0] \n",
    "\n",
    "oddlist = [ num for num in A if num%2==1] \n",
    "    \n",
    "print(evenlist)\n",
    "print (oddlist)\n"
   ]
  },
  {
   "cell_type": "markdown",
   "metadata": {},
   "source": [
    "print out any number in A that could be divided by 2 and 3?"
   ]
  },
  {
   "cell_type": "code",
   "execution_count": 37,
   "metadata": {},
   "outputs": [
    {
     "data": {
      "text/plain": [
       "[6, 0]"
      ]
     },
     "execution_count": 37,
     "metadata": {},
     "output_type": "execute_result"
    }
   ],
   "source": [
    "[num for num in A if num%2==0 and num%3==0]"
   ]
  },
  {
   "cell_type": "markdown",
   "metadata": {},
   "source": [
    "print out any number in A that could be divided by 2 or 3?"
   ]
  },
  {
   "cell_type": "code",
   "execution_count": 31,
   "metadata": {},
   "outputs": [
    {
     "data": {
      "text/plain": [
       "[2, 3, 4, 6, 8, 9, 0]"
      ]
     },
     "execution_count": 31,
     "metadata": {},
     "output_type": "execute_result"
    }
   ],
   "source": [
    "[num for num in A if num%2==0 or num%3==0]"
   ]
  },
  {
   "cell_type": "markdown",
   "metadata": {},
   "source": [
    "if you have the following list\n",
    "- B = [[1,2,3,5], [6,7,8,9], [10,11,12,13]]- and you wants to access the didigt 10 how would you do that?"
   ]
  },
  {
   "cell_type": "code",
   "execution_count": 31,
   "metadata": {},
   "outputs": [
    {
     "name": "stdout",
     "output_type": "stream",
     "text": [
      "10\n"
     ]
    }
   ],
   "source": [
    "import numpy as np\n",
    "\n",
    "B = np.array([[1,2,3,5], [6,7,8,9], [10,11,12,13]])\n",
    "\n",
    "print(B[2, 0])"
   ]
  },
  {
   "cell_type": "markdown",
   "metadata": {},
   "source": [
    "try to convert the list B into one dimensional list?"
   ]
  },
  {
   "cell_type": "code",
   "execution_count": 21,
   "metadata": {},
   "outputs": [
    {
     "name": "stdout",
     "output_type": "stream",
     "text": [
      "[1, 2, 3, 5, 6, 7, 8, 9, 10, 11, 12, 13]\n"
     ]
    }
   ],
   "source": [
    "B=[1,2,3,5] ,[6,7,8,9] ,[10,11,12,13]\n",
    "\n",
    "\n",
    "C=[1,2,3,5] \n",
    "D=[6,7,8,9]\n",
    "E =[10,11,12,13]\n",
    "\n",
    "X = C+D+E\n",
    "\n",
    "print(X)"
   ]
  },
  {
   "cell_type": "code",
   "execution_count": null,
   "metadata": {},
   "outputs": [],
   "source": []
  },
  {
   "cell_type": "markdown",
   "metadata": {},
   "source": [
    "if these numbers are in seconds,  time= [3600,2325,993,3211,455,7744]\n",
    "- convert them in to this format (HH:MM:SS)\n",
    "- for example 3600 = (01:00:00)\n"
   ]
  },
  {
   "cell_type": "code",
   "execution_count": 35,
   "metadata": {},
   "outputs": [
    {
     "name": "stdout",
     "output_type": "stream",
     "text": [
      "Enter the number of seconds: 3600\n"
     ]
    },
    {
     "data": {
      "text/plain": [
       "[1, 0, 0]"
      ]
     },
     "execution_count": 35,
     "metadata": {},
     "output_type": "execute_result"
    }
   ],
   "source": [
    "\n",
    "def convertSeconds(seconds):\n",
    "    h = seconds//(60*60)\n",
    "    m = (seconds-h*60*60)//60\n",
    "    s = seconds-(h*60*60)-(m*60)\n",
    "    return [h, m, s]\n",
    "\n",
    "seconds= int(input(\"Enter the number of seconds: \"))\n",
    "convertSeconds(seconds)\n",
    "\n",
    "\n",
    "## or another method ##\n",
    "\n",
    "def secondsToTime(secs):\n",
    "    days = secs//86400\n",
    "    hours = (secs - days*86400)//3600\n",
    "    minutes = (secs - days*86400 - hours*3600)//60\n",
    "    seconds = secs - days*86400 - hours*3600 - minutes*60\n",
    "    result = (\"{} days, \".format(days) if days else \"\") + \\\n",
    "    (\"{} hours, \".format(hours) if hours else \"\") + \\\n",
    "    (\"{} minutes, \".format(minutes) if minutes else \"\") + \\\n",
    "    (\"{} seconds, \".format(seconds) if seconds else \"\")\n",
    "    return result\n"
   ]
  },
  {
   "cell_type": "markdown",
   "metadata": {},
   "source": [
    "Given an array of integers A = [1,2,3,4,5,6,7,8,9,1,5,3,2,6,9,8], find the one that appears only one time"
   ]
  },
  {
   "cell_type": "code",
   "execution_count": 10,
   "metadata": {},
   "outputs": [
    {
     "name": "stdout",
     "output_type": "stream",
     "text": [
      "1\n",
      "2\n",
      "3\n",
      "5\n",
      "6\n",
      "8\n",
      "9\n"
     ]
    }
   ],
   "source": [
    "A=[1,2,3,4,5,6,7,8,9,1,5,3,2,6,9,8]\n",
    "\n",
    "for i in range (0,len(A)):\n",
    "    for j in range (i+1,len(A)):\n",
    "      if A[i]==A[j] :\n",
    "         print(A[i]) "
   ]
  },
  {
   "cell_type": "markdown",
   "metadata": {},
   "source": [
    " convert 11111 form binary to hexdecimal"
   ]
  },
  {
   "cell_type": "code",
   "execution_count": 9,
   "metadata": {},
   "outputs": [
    {
     "data": {
      "text/plain": [
       "'0xf'"
      ]
     },
     "execution_count": 9,
     "metadata": {},
     "output_type": "execute_result"
    }
   ],
   "source": [
    "\n",
    "  \n",
    "    \n",
    "       ##Main## \n",
    "        \n",
    "        \n",
    "  hex(int('1111', 2))\n",
    "\n",
    "\n",
    "\n",
    "      ## or another method ##\n",
    "\n",
    "\n",
    "def main():\n",
    "    print(\"Convert binary numbers to hexadecimal.\")\n",
    "\n",
    "    binary = list(input(\"Enter a binary number: \"))     \n",
    "\n",
    "    for i in range(len(binary)):   \n",
    "        binary[i] = int(binary[i])\n",
    "\n",
    "    summ = 0\n",
    "\n",
    "    for i in range(len(binary)):   \n",
    "        summ = int(summ+ binary[i] * 2**i)\n",
    "\n",
    "    x = int(0)\n",
    "    while 16**(x+1) < summ:     \n",
    "        x+=1\n",
    "\n",
    "    while x >= 0:\n",
    "        value = int(summ/16**x)\n",
    "\n",
    "        if value < 10:\n",
    "            print(value, end=\"\")\n",
    "        if value == 10:\n",
    "            print(\"A\", end=\"\")\n",
    "        if value == 11:\n",
    "            print(\"B\", end=\"\")\n",
    "        if value == 12:\n",
    "            print(\"C\", end=\"\")\n",
    "        if value == 13:\n",
    "            print(\"D\", end=\"\")\n",
    "        if value == 14:\n",
    "            print(\"E\", end=\"\")\n",
    "        if value == 15:\n",
    "            print(\"F\", end=\"\")\n",
    "\n",
    "        summ-=int(16**x)\n",
    "\n",
    "        x-=1\n",
    "        \n",
    " \n",
    "\n",
    "      \n",
    "   \n",
    "    "
   ]
  },
  {
   "cell_type": "markdown",
   "metadata": {},
   "source": [
    "convert FF23 from hexdecimal to binary"
   ]
  },
  {
   "cell_type": "code",
   "execution_count": 1,
   "metadata": {},
   "outputs": [
    {
     "data": {
      "text/plain": [
       "'1111111100100011'"
      ]
     },
     "execution_count": 1,
     "metadata": {},
     "output_type": "execute_result"
    }
   ],
   "source": [
    "bin(int(\"FF23\",16))[2:]\n"
   ]
  },
  {
   "cell_type": "markdown",
   "metadata": {},
   "source": [
    "try to write a function that  converts from any float number to The IEEE Standard for Floating-Point Arithmetic (IEEE 754)?"
   ]
  },
  {
   "cell_type": "code",
   "execution_count": null,
   "metadata": {},
   "outputs": [],
   "source": []
  }
 ],
 "metadata": {
  "kernelspec": {
   "display_name": "Python 3",
   "language": "python",
   "name": "python3"
  },
  "language_info": {
   "codemirror_mode": {
    "name": "ipython",
    "version": 3
   },
   "file_extension": ".py",
   "mimetype": "text/x-python",
   "name": "python",
   "nbconvert_exporter": "python",
   "pygments_lexer": "ipython3",
   "version": "3.7.6"
  }
 },
 "nbformat": 4,
 "nbformat_minor": 4
}
